{
 "cells": [
  {
   "cell_type": "code",
   "execution_count": null,
   "metadata": {},
   "outputs": [
    {
     "name": "stdout",
     "output_type": "stream",
     "text": [
      "e:\\Proyectos\\Hackathon\\AIMicroscopyGAeN\\Detect_NP\\detection_gui\n"
     ]
    },
    {
     "name": "stderr",
     "output_type": "stream",
     "text": [
      "Exception in Tkinter callback\n",
      "Traceback (most recent call last):\n",
      "  File \"c:\\Users\\josep\\anaconda3\\envs\\app\\lib\\tkinter\\__init__.py\", line 1885, in __call__\n",
      "    return self.func(*args)\n",
      "  File \"c:\\Users\\josep\\anaconda3\\envs\\app\\lib\\site-packages\\customtkinter\\windows\\widgets\\ctk_entry.py\", line 120, in _textvariable_callback\n",
      "    if self._textvariable.get() == \"\":\n",
      "  File \"c:\\Users\\josep\\anaconda3\\envs\\app\\lib\\tkinter\\__init__.py\", line 560, in get\n",
      "    return self._tk.getdouble(self._tk.globalgetvar(self._name))\n",
      "_tkinter.TclError: expected floating-point number but got \"\"\n"
     ]
    }
   ],
   "source": [
    "import os\n",
    "import sys\n",
    "sys.path.append(os.path.abspath(\"..\"))\n",
    "\n",
    "from detection_gui_app import Detection_gui\n",
    "\n",
    "app = Detection_gui(project_path=os.path.abspath(\".\"))\n",
    "app.mainloop()"
   ]
  }
 ],
 "metadata": {
  "kernelspec": {
   "display_name": "app",
   "language": "python",
   "name": "python3"
  },
  "language_info": {
   "codemirror_mode": {
    "name": "ipython",
    "version": 3
   },
   "file_extension": ".py",
   "mimetype": "text/x-python",
   "name": "python",
   "nbconvert_exporter": "python",
   "pygments_lexer": "ipython3",
   "version": "3.9.0"
  }
 },
 "nbformat": 4,
 "nbformat_minor": 2
}
